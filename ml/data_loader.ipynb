{
 "cells": [
  {
   "cell_type": "code",
   "execution_count": 14,
   "id": "initial_id",
   "metadata": {
    "collapsed": true,
    "ExecuteTime": {
     "end_time": "2024-04-01T11:08:54.861167Z",
     "start_time": "2024-04-01T11:08:54.644808Z"
    }
   },
   "outputs": [],
   "source": [
    "import typing as tp\n",
    "from datasets import database_utils\n",
    "import pandas as pd\n",
    "\n",
    "\n",
    "class FunctionDatasetRow(tp.NamedTuple):\n",
    "    name: str\n",
    "    docstring: str\n",
    "    code: int\n",
    "\n",
    "base = database_utils.Database('data/github_data')\n",
    "dataset = database_utils.Dataset(base, 'test_data', FunctionDatasetRow)"
   ]
  },
  {
   "cell_type": "code",
   "outputs": [],
   "source": [
    "all_file_names = !ls data\n",
    "\n",
    "for file_name in all_file_names:\n",
    "    if 'csv' not in file_name:\n",
    "        continue\n",
    "    df = pd.read_csv(f'data/{file_name}')\n",
    "    for _, row in df.iterrows():\n",
    "        dataset.write(\n",
    "            FunctionDatasetRow(name=row['name'], docstring=row['docstring'], code=row['code'])\n",
    "        )"
   ],
   "metadata": {
    "collapsed": false,
    "ExecuteTime": {
     "end_time": "2024-04-01T11:11:35.388520Z",
     "start_time": "2024-04-01T11:11:34.488048Z"
    }
   },
   "id": "5fb942cf9553f221",
   "execution_count": 29
  }
 ],
 "metadata": {
  "kernelspec": {
   "display_name": "Python 3",
   "language": "python",
   "name": "python3"
  },
  "language_info": {
   "codemirror_mode": {
    "name": "ipython",
    "version": 2
   },
   "file_extension": ".py",
   "mimetype": "text/x-python",
   "name": "python",
   "nbconvert_exporter": "python",
   "pygments_lexer": "ipython2",
   "version": "2.7.6"
  }
 },
 "nbformat": 4,
 "nbformat_minor": 5
}
