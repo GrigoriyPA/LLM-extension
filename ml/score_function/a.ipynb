{
 "cells": [
  {
   "cell_type": "code",
   "execution_count": 5,
   "metadata": {},
   "outputs": [
    {
     "data": {
      "text/plain": [
       "3"
      ]
     },
     "execution_count": 5,
     "metadata": {},
     "output_type": "execute_result"
    }
   ],
   "source": [
    "import pandas as pd\n",
    "from sqlalchemy import create_engine\n",
    "engine = create_engine('sqlite://', echo=False)\n",
    "df = pd.DataFrame({\n",
    "'docstring': [\n",
    "    'считает gcd двух чисел',\n",
    "    'считает корень из числа',\n",
    "    'Задача организации, в особенности же повышение уровня гражданского сознания позволяет оценить значение ключевых компонентов планируемого обновления! Не следует, однако, забывать о том, что рамки и место обучения кадров напрямую зависит от системы масштабного изменения ряда параметров. Разнообразный и богатый опыт реализация намеченного плана развития требует от нас анализа дальнейших направлений развитая системы массового участия.',\n",
    "    ],\n",
    "'function_body': [\n",
    "    'def gcd_recursion(num1, num2):\\n\\treturn gcd_recursion(num2 % num1, num1) if num1 != 0 else num2',\n",
    "    'def q(x):\\n\\treturn sqrt(x)',\n",
    "    'def g(x): \\n\\treturn x'\n",
    "        ]\n",
    "})\n",
    "\n",
    "df.to_sql('../../data/tmp_database.db', con=engine)"
   ]
  },
  {
   "cell_type": "code",
   "execution_count": null,
   "metadata": {},
   "outputs": [],
   "source": []
  }
 ],
 "metadata": {
  "kernelspec": {
   "display_name": "Python 3",
   "language": "python",
   "name": "python3"
  },
  "language_info": {
   "codemirror_mode": {
    "name": "ipython",
    "version": 3
   },
   "file_extension": ".py",
   "mimetype": "text/x-python",
   "name": "python",
   "nbconvert_exporter": "python",
   "pygments_lexer": "ipython3",
   "version": "3.11.4"
  }
 },
 "nbformat": 4,
 "nbformat_minor": 2
}
